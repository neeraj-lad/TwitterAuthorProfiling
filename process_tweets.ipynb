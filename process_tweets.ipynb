{
 "cells": [
  {
   "cell_type": "code",
   "execution_count": 5,
   "metadata": {
    "collapsed": true
   },
   "outputs": [],
   "source": [
    "import json\n",
    "with open('tweets_fifty_per_user.json', 'r') as f:\n",
    "    file_tweets = f.read().strip().split('\\n')\n",
    "tweets = [json.loads(tweet) for tweet in file_tweets]"
   ]
  },
  {
   "cell_type": "code",
   "execution_count": 6,
   "metadata": {
    "collapsed": false
   },
   "outputs": [
    {
     "name": "stdout",
     "output_type": "stream",
     "text": [
      "{'tweet_tags': 0, 'user_id': '4905cc7a1396110c1a635c4e7b023de2', 'tweet_id': '10571867266', 'tweet_gender': 0, 'tweet_text': 'Come to \"Algo Más Inesperado Que La Muerte\" Wednesday, March 24 at 8:00 pm until <br />Saturday, April 24 at 11:00... http://fb.me/7kLR3SI', 'tweet_age': 3, 'is_url_present': True}\n"
     ]
    }
   ],
   "source": [
    "print(tweets[0])"
   ]
  },
  {
   "cell_type": "code",
   "execution_count": 7,
   "metadata": {
    "collapsed": false
   },
   "outputs": [],
   "source": [
    "lowercase_tweets = list(tweets)\n",
    "for tweet in lowercase_tweets:\n",
    "    tweet['tweet_text'] = tweet['tweet_text'].lower()"
   ]
  },
  {
   "cell_type": "code",
   "execution_count": 8,
   "metadata": {
    "collapsed": true
   },
   "outputs": [],
   "source": [
    "import re\n",
    "punct_less_tweets = list(lowercase_tweets)\n",
    "for tweet in punct_less_tweets:\n",
    "    tweet['tweet_text'] = re.sub('[^\\w\\s]', '', tweet['tweet_text'])"
   ]
  },
  {
   "cell_type": "code",
   "execution_count": 9,
   "metadata": {
    "collapsed": false
   },
   "outputs": [],
   "source": [
    "from nltk.corpus import stopwords\n",
    "englist_stopwords_set = set(stopwords.words('english'))\n",
    "stopword_less_tweets = list(punct_less_tweets)\n",
    "for tweet in stopword_less_tweets:\n",
    "    tweet['tweet_text'] = ' '.join([word for word in tweet['tweet_text'].split() if word not in englist_stopwords_set])"
   ]
  },
  {
   "cell_type": "code",
   "execution_count": 3,
   "metadata": {
    "collapsed": false
   },
   "outputs": [],
   "source": [
    "import preprocessor as p"
   ]
  },
  {
   "cell_type": "code",
   "execution_count": 11,
   "metadata": {
    "collapsed": false
   },
   "outputs": [],
   "source": [
    "processed_tweets = list(tweets)\n",
    "for tweet in processed_tweets:\n",
    "    tweet['tweet_text'] = p.clean(tweet['tweet_text'])"
   ]
  },
  {
   "cell_type": "code",
   "execution_count": 15,
   "metadata": {
    "collapsed": false
   },
   "outputs": [
    {
     "name": "stdout",
     "output_type": "stream",
     "text": [
      "{'tweet_tags': 0, 'user_id': '36b2593435e1bed13eb138c1973c13ed', 'tweet_id': '193081464794005504', 'tweet_gender': 1, 'tweet_text': 'honored part cedarvilleuniversitys design advisory board staff passion students', 'tweet_age': 3, 'is_url_present': False}\n"
     ]
    }
   ],
   "source": [
    "print(processed_tweets[1000])"
   ]
  },
  {
   "cell_type": "code",
   "execution_count": 17,
   "metadata": {
    "collapsed": false
   },
   "outputs": [
    {
     "name": "stdout",
     "output_type": "stream",
     "text": [
      "come algo más inesperado que la muerte wednesday march pm br saturday april httpfbme7klr3si\n",
      "los patriotas httpfbmekuelf3gl7\n",
      "httpwwwfacebookcomphotophppid3505512l465638bc2eid43000311091\n",
      "posted photos facebook album mi álbum iii httpfbmeueb1rekr\n",
      "por mi culpa httpfbmete5vwzsg\n",
      "hacer sangre httpfbmeucouvfg9\n",
      "mi vida en dos patadas httpfbmewykhb3or\n",
      "partidismo httpfbmewipbkuau\n",
      "viajando con elvira lindo httpfbmesfpydlwd\n",
      "pícaro gordo httpfbmeybyhrxj2\n",
      "catastrofismo httpfbmexgr25mws\n",
      "mi querido soulaimane httpfbmezlgwhmju\n",
      "httpwwwfacebookcomphotophppid3892397l7816a1ce44id43000311091\n",
      "gordos sanos httpfbmexmhv7zmb\n",
      "la mejor galleta de nyc rt mai_madrid elviralindo francescacheska buenísimo otra vez thanks httpstwittercommai_madridstatus144858030230601728photo1pictwittercom7tzi5gv4\n",
      "mentiras milagrosas httpfbmekulvu\n",
      "photo diario de pontevedra cuando la vida se vuelve literatura\n",
      "la fiesta httpfbmeznk1efxi\n",
      "la monja santa httpfbmebhpzwbdl\n",
      "lo que sé httpfbmeaxebbu67\n",
      "mii favorita rt mcgutierrezsj elviralindo xalegret la de pj clarkes\n",
      "posted photos facebook album mi álbum iii httpfbmeanxhpeyq\n",
      "spaincultureny anyone going cervantesny see launch lugares que quiero compartir con nadie elviralindo\n",
      "pecesrojos mcnally jackson en soho\n",
      "gracias maxim rt maximhuerta gran elviralindo rt aimarbretos una vergüenza por elvira lindo httpelpaiscomelpais20120313opinion1331654413_622784html\n",
      "posted new photo facebook httpfbmee9lgi1ud\n",
      "elogio apasionado del conocimiento httpfbmedsnydjdi\n",
      "banderas httpfbmew19gbyox\n",
      "posted new photo facebook httpfbmevlxakzb1\n",
      "posted new photo facebook httpfbmevi3bk5cx\n",
      "callarse httpfbmeecbtu2z1\n",
      "un hombre contra el sistema httpfbmea28f1twk\n",
      "supermajete httpfbmefqmwv9ds\n",
      "foto siempre adoré shirley temple dondegentes httpsaylyhog3rvo\n",
      "hecha con el iphone para compartir este momento con mis lectores premio johnnie walker etiqueta negra amunozmolina httpsaylymqv3tbz\n",
      "rt bebramar evidentemente por elviralindo httpculturaelpaiscomcultura20120629actualidad1340967301_699330html\n",
      "festivalavignon france\n",
      "rt rafaelbonachela maria pages sidi larbi press call spring_dance sydoperahouse springdancesyd flamenco httpinstagramponqsyqlmqs\n",
      "feliç aniversari rt maria_navasa el meu regal de anys ha arribat suècia manolito forever elviralindo\n",
      "elviralindo mejor manolito ya está la venta gracias\n",
      "besos rt josrased mejor manolo de elviralindo comprado de regalo una chapita\n",
      "mi chavo de washington heights rt xavimenos ya tengo en mis manos mi querido manolitogafotas de mi elviralindo httpinstagramprjdakh13a\n",
      "emails preguntando por el perfume de elvira lindo qué gracia\n",
      "jajaja jajaja lachirli rt evalovemusic1 elviralindo si llega salir vestida de lady gaga ya habría olido algo raro jaja\n",
      "feliz navidad httpswwwyoutubecomwatchfeatureplayer_embeddedv5g4ly8y3eoo\n",
      "amunozmolina tan solo novelista elpaissemanal\n",
      "josecorbacho gràcies arribo demà\n",
      "foto últimos detalles santjordi httpyfrogcomh8ewbijj\n",
      "chavo nos dirigimos al corte inglés de plaça catalunya firma de santjordi\n",
      "photo fnac triangle httpyfrogcomgzsg5xaj\n"
     ]
    }
   ],
   "source": [
    "for tweet in processed_tweets:\n",
    "    if tweet['user_id'] == '4905cc7a1396110c1a635c4e7b023de2':\n",
    "        print(tweet['tweet_text'])"
   ]
  },
  {
   "cell_type": "code",
   "execution_count": null,
   "metadata": {
    "collapsed": true
   },
   "outputs": [],
   "source": []
  }
 ],
 "metadata": {
  "anaconda-cloud": {},
  "kernelspec": {
   "display_name": "Python [conda root]",
   "language": "python",
   "name": "conda-root-py"
  },
  "language_info": {
   "codemirror_mode": {
    "name": "ipython",
    "version": 3
   },
   "file_extension": ".py",
   "mimetype": "text/x-python",
   "name": "python",
   "nbconvert_exporter": "python",
   "pygments_lexer": "ipython3",
   "version": "3.5.2"
  }
 },
 "nbformat": 4,
 "nbformat_minor": 1
}
